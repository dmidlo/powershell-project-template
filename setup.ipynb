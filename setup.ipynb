{
 "cells": [
  {
   "cell_type": "markdown",
   "metadata": {},
   "source": [
    "# Step-by-Step PowerShell Module Development Workflow\n",
    "\n",
    "## 1. **Initial Setup**\n",
    "   - Ensure all necessary tools and modules are installed."
   ]
  },
  {
   "cell_type": "code",
   "execution_count": null,
   "metadata": {
    "dotnet_interactive": {
     "language": "pwsh"
    },
    "polyglot_notebook": {
     "kernelName": "pwsh"
    },
    "vscode": {
     "languageId": "polyglot-notebook"
    }
   },
   "outputs": [],
   "source": [
    "Set-PSRepository -Name PSGallery -InstallationPolicy Trusted\n",
    "Install-Module -Name PSModuleDevelopment\n",
    "Install-Module -Name Pester\n",
    "Install-Module -Name PSScriptAnalyzer\n",
    "Install-Module -Name platyPS"
   ]
  },
  {
   "cell_type": "markdown",
   "metadata": {},
   "source": [
    "## 2. **Create a New Module Project**\n",
    "   - Use `PSModuleDevelopment` to scaffold the module project structure.\n",
    "   This command creates a standard module folder structure, including directories for `Public`, `Private`, and test files."
   ]
  },
  {
   "cell_type": "code",
   "execution_count": 5,
   "metadata": {
    "dotnet_interactive": {
     "language": "pwsh"
    },
    "polyglot_notebook": {
     "kernelName": "pwsh"
    },
    "vscode": {
     "languageId": "polyglot-notebook"
    }
   },
   "outputs": [
    {
     "name": "stdout",
     "output_type": "stream",
     "text": [
      "\n",
      "\u001b[32;1mType   \u001b[0m\u001b[32;1m Name                 \u001b[0m\u001b[32;1m Version\u001b[0m\u001b[32;1m Store              \u001b[0m\u001b[32;1m Description\u001b[0m\n",
      "\u001b[32;1m----   \u001b[0m \u001b[32;1m----                 \u001b[0m \u001b[32;1m-------\u001b[0m \u001b[32;1m-----              \u001b[0m \u001b[32;1m-----------\u001b[0m\n",
      "File    BuildAction           1.0.0.0 PSModuleDevelopment Action for the PSMD Build System\n",
      "File    CommandTest           1.0.0.0 PSModuleDevelopment Testing template for a command unit test\n",
      "File    configuration         1.0.0.0 PSModuleDevelopment Basic configuration template\n",
      "File    function              1.0.0.0 PSModuleDevelopment Basic function template\n",
      "File    PSFCimFunction        1.0.0.0 PSModuleDevelopment PSFramework: Create function that connec…\n",
      "File    PSFLoggingProvider    1.0.0.0 PSModuleDevelopment A Custom Logfile Provider\n",
      "File    PSMDTemplateReference 1.0.0.0 PSModuleDevelopment PSModule Development Template Reference …\n",
      "Project AppLockerProject      1.0.0   PSModuleDevelopment PowerShell Framework based AppLocker CI …\n",
      "Project AzureFunction         2.0.5   PSModuleDevelopment Basic Azure Function Template\n",
      "Project AzureFunctionRest     1.0.0.0 PSModuleDevelopment HTTP Trigger endpoint for the basic Azur…\n",
      "Project AzureFunctionTimer    1.0.0.0 PSModuleDevelopment Timer Trigger endpoint for the basic Azu…\n",
      "Project dscclass              1.0.0.0 PSModuleDevelopment Basic class-based DSC resource template …\n",
      "Project MiniModule            1.0.0.0 PSModuleDevelopment Module scaffold with full CI/CD support …\n",
      "Project module                1.1.1.0 PSModuleDevelopment Basic module scaffold\n",
      "Project PSFModule             1.1.2.0 PSModuleDevelopment PowerShell Framework based module scaffo…\n",
      "Project PSFProject            1.3.4   PSModuleDevelopment PowerShell Framework based project scaff…\n",
      "Project PSFTests              2.0.1   PSModuleDevelopment The PSFramework-based standard test suit…\n",
      "\n"
     ]
    }
   ],
   "source": [
    "Import-Module PSModuleDevelopment\n",
    "Get-PSMDTemplate"
   ]
  },
  {
   "cell_type": "markdown",
   "metadata": {},
   "source": [
    "   ```powershell\n",
    "   Invoke-PSMDTemplate -Template Module -DestinationPath 'C:\\Projects\\MyModule'\n",
    "   ```\n"
   ]
  },
  {
   "cell_type": "markdown",
   "metadata": {},
   "source": [
    "\n",
    "## 3. **Add Functions to the Module**\n",
    "   - Place your public functions in the `Public` folder and private/internal functions in the `Private` folder.\n",
    "   - Example structure:\n",
    "     ```\n",
    "     MyModule\\\n",
    "     │   MyModule.psd1\n",
    "     │   MyModule.psm1\n",
    "     ├───Public\\\n",
    "     │       Get-MyFunction.ps1\n",
    "     │       Set-MyFunction.ps1\n",
    "     └───Private\\\n",
    "             HelperFunction.ps1\n",
    "     ```\n",
    "   - Update `MyModule.psm1` to dot-source the function scripts and export public functions:\n",
    "     ```powershell\n",
    "     . \"$PSScriptRoot\\Public\\Get-MyFunction.ps1\"\n",
    "     . \"$PSScriptRoot\\Public\\Set-MyFunction.ps1\"\n",
    "\n",
    "     Export-ModuleMember -Function Get-MyFunction, Set-MyFunction\n",
    "     ```\n",
    "\n",
    "## 4. **Add Tests Using Pester**\n",
    "   - Create a `Tests` folder within your module project.\n",
    "   - Add Pester test files for each function or logical unit. For example:\n",
    "     ```powershell\n",
    "     New-Item -Path .\\Tests\\Get-MyFunction.Tests.ps1 -ItemType File\n",
    "     ```\n",
    "   - Write Pester tests in your `.Tests.ps1` files:\n",
    "     ```powershell\n",
    "     Describe 'Get-MyFunction' {\n",
    "         It 'Should return the expected output' {\n",
    "             $result = Get-MyFunction -Param1 'Test'\n",
    "             $result | Should -Be 'ExpectedOutput'\n",
    "         }\n",
    "     }\n",
    "     ```\n",
    "   - Run Pester tests to validate your code:\n",
    "     ```powershell\n",
    "     Invoke-Pester -Path .\\Tests\n",
    "     ```\n",
    "\n",
    "## 5. **Static Code Analysis with PSScriptAnalyzer**\n",
    "   - Analyze your module code to ensure it follows best practices:\n",
    "     ```powershell\n",
    "     Invoke-ScriptAnalyzer -Path .\\MyModule -Recurse\n",
    "     ```\n",
    "   - Review the analysis output and fix any warnings or errors related to style, performance, and potential issues.\n",
    "\n",
    "## 6. **Automate Code Checks and Testing**\n",
    "   - Create a script or CI/CD pipeline configuration (e.g., GitHub Actions or Azure DevOps) to automate Pester tests and PSScriptAnalyzer checks. Example PowerShell script:\n",
    "     ```powershell\n",
    "     # Run PSScriptAnalyzer\n",
    "     $analysisResult = Invoke-ScriptAnalyzer -Path .\\MyModule -Recurse\n",
    "     if ($analysisResult.Count -gt 0) {\n",
    "         Write-Output \"Code analysis found issues!\"\n",
    "         $analysisResult | Format-Table -AutoSize\n",
    "         exit 1\n",
    "     }\n",
    "\n",
    "     # Run Pester tests\n",
    "     Invoke-Pester -Path .\\Tests -Output Detailed\n",
    "     ```\n",
    "\n",
    "## 7. **Iterative Development**\n",
    "   - As you develop, regularly run:\n",
    "     ```powershell\n",
    "     Invoke-Pester -Path .\\Tests\n",
    "     Invoke-ScriptAnalyzer -Path .\\MyModule -Recurse\n",
    "     ```\n",
    "   - Make improvements and add more tests as new features or functions are introduced.\n",
    "\n",
    "## 8. **Prepare for Release**\n",
    "   - Ensure your module manifest (`MyModule.psd1`) is updated with accurate metadata such as `Version`, `Author`, and `Description`.\n",
    "   - Test your module by importing it:\n",
    "     ```powershell\n",
    "     Import-Module .\\MyModule -Force\n",
    "     Get-MyFunction\n",
    "     ```\n",
    "\n",
    "### Tips for an Efficient Workflow\n",
    "- **Automate with Scripts**: Create scripts for running your tests and code analysis to streamline the workflow.\n",
    "- **Continuous Integration (CI)**: Integrate the testing and analysis steps into your CI/CD pipeline for automated validation on commits.\n",
    "- **Version Control**: Use a version control system (e.g., Git) to track changes and collaborate effectively.\n",
    "\n",
    "### Sample Directory Layout\n",
    "```\n",
    "MyModule\\\n",
    "│   MyModule.psd1\n",
    "│   MyModule.psm1\n",
    "├───Public\\\n",
    "│       Get-MyFunction.ps1\n",
    "│       Set-MyFunction.ps1\n",
    "├───Private\\\n",
    "│       HelperFunction.ps1\n",
    "└───Tests\\\n",
    "        Get-MyFunction.Tests.ps1\n",
    "        Set-MyFunction.Tests.ps1\n",
    "```"
   ]
  }
 ],
 "metadata": {
  "kernelspec": {
   "display_name": ".NET (C#)",
   "language": "C#",
   "name": ".net-csharp"
  },
  "language_info": {
   "name": "python"
  },
  "polyglot_notebook": {
   "kernelInfo": {
    "defaultKernelName": "csharp",
    "items": [
     {
      "aliases": [],
      "name": "csharp"
     }
    ]
   }
  }
 },
 "nbformat": 4,
 "nbformat_minor": 2
}
